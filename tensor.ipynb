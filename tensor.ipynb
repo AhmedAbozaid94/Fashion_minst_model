{
 "cells": [
  {
   "cell_type": "code",
   "execution_count": 1,
   "metadata": {},
   "outputs": [],
   "source": [
    "import numpy as np \n",
    "from tensorflow import keras \n",
    "from keras.layers import Dense\n",
    "import matplotlib.pyplot as plt\n"
   ]
  },
  {
   "cell_type": "code",
   "execution_count": 2,
   "metadata": {},
   "outputs": [
    {
     "data": {
      "text/plain": [
       "(60000, 28, 28)"
      ]
     },
     "execution_count": 2,
     "metadata": {},
     "output_type": "execute_result"
    }
   ],
   "source": [
    "# we import data into variables and check thier shape.\n",
    "from keras.datasets import fashion_mnist\n",
    "(x_train, y_train), (x_test, y_test) = fashion_mnist.load_data()\n",
    "x_train.shape "
   ]
  },
  {
   "cell_type": "code",
   "execution_count": 5,
   "metadata": {},
   "outputs": [
    {
     "name": "stdout",
     "output_type": "stream",
     "text": [
      "Epoch 1/10\n",
      "3750/3750 [==============================] - 18s 5ms/step - loss: 0.4721 - accuracy: 0.8277 - val_loss: 0.4775 - val_accuracy: 0.8249\n",
      "Epoch 2/10\n",
      "3750/3750 [==============================] - 17s 4ms/step - loss: 0.3614 - accuracy: 0.8681 - val_loss: 0.3826 - val_accuracy: 0.8613\n",
      "Epoch 3/10\n",
      "3750/3750 [==============================] - 16s 4ms/step - loss: 0.3290 - accuracy: 0.8792 - val_loss: 0.3620 - val_accuracy: 0.8683\n",
      "Epoch 4/10\n",
      "3750/3750 [==============================] - 16s 4ms/step - loss: 0.3045 - accuracy: 0.8858 - val_loss: 0.3666 - val_accuracy: 0.8724\n",
      "Epoch 5/10\n",
      "3750/3750 [==============================] - 17s 5ms/step - loss: 0.2877 - accuracy: 0.8930 - val_loss: 0.3379 - val_accuracy: 0.8819\n",
      "Epoch 6/10\n",
      "3750/3750 [==============================] - 19s 5ms/step - loss: 0.2736 - accuracy: 0.8968 - val_loss: 0.3570 - val_accuracy: 0.8661\n",
      "Epoch 7/10\n",
      "3750/3750 [==============================] - 16s 4ms/step - loss: 0.2630 - accuracy: 0.9005 - val_loss: 0.3800 - val_accuracy: 0.8675\n",
      "Epoch 8/10\n",
      "3750/3750 [==============================] - 16s 4ms/step - loss: 0.2546 - accuracy: 0.9041 - val_loss: 0.3643 - val_accuracy: 0.8787\n",
      "Epoch 9/10\n",
      "3750/3750 [==============================] - 16s 4ms/step - loss: 0.2473 - accuracy: 0.9060 - val_loss: 0.3786 - val_accuracy: 0.8771\n",
      "Epoch 10/10\n",
      "3750/3750 [==============================] - 16s 4ms/step - loss: 0.2380 - accuracy: 0.9093 - val_loss: 0.3708 - val_accuracy: 0.8817\n",
      "Test loss: 0.3707849681377411\n",
      "Test accuracy: 0.8816999793052673\n"
     ]
    }
   ],
   "source": [
    "# we reshape the data to be 2D\n",
    "x_train = x_train.reshape(60000, 784)\n",
    "x_test = x_test.reshape(10000, 784)\n",
    "\n",
    "# we normalize the data to be between 0 and 1\n",
    "x_train = x_train.astype('float32')\n",
    "x_test = x_test.astype('float32')\n",
    "x_train /= 255\n",
    "x_test /= 255\n",
    "\n",
    "# we create the model\n",
    "model = keras.Sequential()\n",
    "model.add(Dense(512, activation='relu', input_shape=(784,)))       # 512 neurons in the first layer\n",
    "model.add(Dense(512, activation='relu'))                           # 512 neurons in the second layer\n",
    "model.add(Dense(10, activation='softmax'))                         # 10 neurons in the last layer\n",
    "\n",
    "# we compile the model\n",
    "model.compile(loss='sparse_categorical_crossentropy', optimizer='adam', metrics=['accuracy'])\n",
    "\n",
    "# we train the model\n",
    "history = model.fit(x_train, y_train, batch_size=16, epochs=10, verbose=1, validation_data=(x_test, y_test))\n",
    "\n",
    "# we evaluate the model\n",
    "score = model.evaluate(x_test, y_test, verbose=0)\n",
    "print('Test loss:', score[0])\n",
    "print('Test accuracy:', score[1])\n",
    "\n",
    "\n",
    "\n"
   ]
  },
  {
   "cell_type": "code",
   "execution_count": null,
   "metadata": {},
   "outputs": [],
   "source": []
  }
 ],
 "metadata": {
  "kernelspec": {
   "display_name": "Python 3.10.4 64-bit",
   "language": "python",
   "name": "python3"
  },
  "language_info": {
   "codemirror_mode": {
    "name": "ipython",
    "version": 3
   },
   "file_extension": ".py",
   "mimetype": "text/x-python",
   "name": "python",
   "nbconvert_exporter": "python",
   "pygments_lexer": "ipython3",
   "version": "3.10.4"
  },
  "orig_nbformat": 4,
  "vscode": {
   "interpreter": {
    "hash": "1ba8f4ada7aa59d22aa2a4ac12f2033775d419a9b7d192f7eff72c36ce814ec6"
   }
  }
 },
 "nbformat": 4,
 "nbformat_minor": 2
}
